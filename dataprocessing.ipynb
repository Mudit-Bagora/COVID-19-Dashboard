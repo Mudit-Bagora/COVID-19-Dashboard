{
 "cells": [
  {
   "cell_type": "markdown",
   "metadata": {},
   "source": [
    "# This File Contains Data processing and Backend Logic"
   ]
  },
  {
   "cell_type": "markdown",
   "metadata": {},
   "source": [
    "#### importing libraries"
   ]
  },
  {
   "cell_type": "code",
   "execution_count": 1,
   "metadata": {},
   "outputs": [],
   "source": [
    "import pandas as pd"
   ]
  },
  {
   "cell_type": "markdown",
   "metadata": {},
   "source": [
    "#### Loading Dataset"
   ]
  },
  {
   "cell_type": "code",
   "execution_count": 2,
   "metadata": {},
   "outputs": [],
   "source": [
    "# load raw dataset\n",
    "data_india = pd.read_csv('E:/Projects/Short Project/COVID-19 Dashboard/COVID-19-Dashboard/template/dataset/covid_19_india.csv')\n",
    "tests = pd.read_csv('E:/Projects/Short Project/COVID-19 Dashboard/COVID-19-Dashboard/template/dataset/StatewiseTestingDetails.csv')"
   ]
  },
  {
   "cell_type": "markdown",
   "metadata": {},
   "source": [
    "#### View how data is structured"
   ]
  },
  {
   "cell_type": "code",
   "execution_count": 3,
   "metadata": {},
   "outputs": [
    {
     "data": {
      "text/html": [
       "<div>\n",
       "<style scoped>\n",
       "    .dataframe tbody tr th:only-of-type {\n",
       "        vertical-align: middle;\n",
       "    }\n",
       "\n",
       "    .dataframe tbody tr th {\n",
       "        vertical-align: top;\n",
       "    }\n",
       "\n",
       "    .dataframe thead th {\n",
       "        text-align: right;\n",
       "    }\n",
       "</style>\n",
       "<table border=\"1\" class=\"dataframe\">\n",
       "  <thead>\n",
       "    <tr style=\"text-align: right;\">\n",
       "      <th></th>\n",
       "      <th>Sno</th>\n",
       "      <th>Date</th>\n",
       "      <th>Time</th>\n",
       "      <th>State/UnionTerritory</th>\n",
       "      <th>ConfirmedIndianNational</th>\n",
       "      <th>ConfirmedForeignNational</th>\n",
       "      <th>Cured</th>\n",
       "      <th>Deaths</th>\n",
       "      <th>Confirmed</th>\n",
       "    </tr>\n",
       "  </thead>\n",
       "  <tbody>\n",
       "    <tr>\n",
       "      <th>0</th>\n",
       "      <td>1</td>\n",
       "      <td>30/01/20</td>\n",
       "      <td>6:00 PM</td>\n",
       "      <td>Kerala</td>\n",
       "      <td>1</td>\n",
       "      <td>0</td>\n",
       "      <td>0</td>\n",
       "      <td>0</td>\n",
       "      <td>1</td>\n",
       "    </tr>\n",
       "    <tr>\n",
       "      <th>1</th>\n",
       "      <td>2</td>\n",
       "      <td>31/01/20</td>\n",
       "      <td>6:00 PM</td>\n",
       "      <td>Kerala</td>\n",
       "      <td>1</td>\n",
       "      <td>0</td>\n",
       "      <td>0</td>\n",
       "      <td>0</td>\n",
       "      <td>1</td>\n",
       "    </tr>\n",
       "    <tr>\n",
       "      <th>2</th>\n",
       "      <td>3</td>\n",
       "      <td>01/02/20</td>\n",
       "      <td>6:00 PM</td>\n",
       "      <td>Kerala</td>\n",
       "      <td>2</td>\n",
       "      <td>0</td>\n",
       "      <td>0</td>\n",
       "      <td>0</td>\n",
       "      <td>2</td>\n",
       "    </tr>\n",
       "    <tr>\n",
       "      <th>3</th>\n",
       "      <td>4</td>\n",
       "      <td>02/02/20</td>\n",
       "      <td>6:00 PM</td>\n",
       "      <td>Kerala</td>\n",
       "      <td>3</td>\n",
       "      <td>0</td>\n",
       "      <td>0</td>\n",
       "      <td>0</td>\n",
       "      <td>3</td>\n",
       "    </tr>\n",
       "    <tr>\n",
       "      <th>4</th>\n",
       "      <td>5</td>\n",
       "      <td>03/02/20</td>\n",
       "      <td>6:00 PM</td>\n",
       "      <td>Kerala</td>\n",
       "      <td>3</td>\n",
       "      <td>0</td>\n",
       "      <td>0</td>\n",
       "      <td>0</td>\n",
       "      <td>3</td>\n",
       "    </tr>\n",
       "  </tbody>\n",
       "</table>\n",
       "</div>"
      ],
      "text/plain": [
       "   Sno      Date     Time State/UnionTerritory ConfirmedIndianNational  \\\n",
       "0    1  30/01/20  6:00 PM               Kerala                       1   \n",
       "1    2  31/01/20  6:00 PM               Kerala                       1   \n",
       "2    3  01/02/20  6:00 PM               Kerala                       2   \n",
       "3    4  02/02/20  6:00 PM               Kerala                       3   \n",
       "4    5  03/02/20  6:00 PM               Kerala                       3   \n",
       "\n",
       "  ConfirmedForeignNational  Cured  Deaths  Confirmed  \n",
       "0                        0      0       0          1  \n",
       "1                        0      0       0          1  \n",
       "2                        0      0       0          2  \n",
       "3                        0      0       0          3  \n",
       "4                        0      0       0          3  "
      ]
     },
     "execution_count": 3,
     "metadata": {},
     "output_type": "execute_result"
    }
   ],
   "source": [
    "data_india.head()"
   ]
  },
  {
   "cell_type": "code",
   "execution_count": 4,
   "metadata": {},
   "outputs": [
    {
     "data": {
      "text/html": [
       "<div>\n",
       "<style scoped>\n",
       "    .dataframe tbody tr th:only-of-type {\n",
       "        vertical-align: middle;\n",
       "    }\n",
       "\n",
       "    .dataframe tbody tr th {\n",
       "        vertical-align: top;\n",
       "    }\n",
       "\n",
       "    .dataframe thead th {\n",
       "        text-align: right;\n",
       "    }\n",
       "</style>\n",
       "<table border=\"1\" class=\"dataframe\">\n",
       "  <thead>\n",
       "    <tr style=\"text-align: right;\">\n",
       "      <th></th>\n",
       "      <th>Date</th>\n",
       "      <th>State</th>\n",
       "      <th>TotalSamples</th>\n",
       "      <th>Negative</th>\n",
       "      <th>Positive</th>\n",
       "    </tr>\n",
       "  </thead>\n",
       "  <tbody>\n",
       "    <tr>\n",
       "      <th>0</th>\n",
       "      <td>2020-04-17</td>\n",
       "      <td>Andaman and Nicobar Islands</td>\n",
       "      <td>1403.0</td>\n",
       "      <td>1210</td>\n",
       "      <td>12.0</td>\n",
       "    </tr>\n",
       "    <tr>\n",
       "      <th>1</th>\n",
       "      <td>2020-04-24</td>\n",
       "      <td>Andaman and Nicobar Islands</td>\n",
       "      <td>2679.0</td>\n",
       "      <td>NaN</td>\n",
       "      <td>27.0</td>\n",
       "    </tr>\n",
       "    <tr>\n",
       "      <th>2</th>\n",
       "      <td>2020-04-27</td>\n",
       "      <td>Andaman and Nicobar Islands</td>\n",
       "      <td>2848.0</td>\n",
       "      <td>NaN</td>\n",
       "      <td>33.0</td>\n",
       "    </tr>\n",
       "    <tr>\n",
       "      <th>3</th>\n",
       "      <td>2020-05-01</td>\n",
       "      <td>Andaman and Nicobar Islands</td>\n",
       "      <td>3754.0</td>\n",
       "      <td>NaN</td>\n",
       "      <td>33.0</td>\n",
       "    </tr>\n",
       "    <tr>\n",
       "      <th>4</th>\n",
       "      <td>2020-05-16</td>\n",
       "      <td>Andaman and Nicobar Islands</td>\n",
       "      <td>6677.0</td>\n",
       "      <td>NaN</td>\n",
       "      <td>33.0</td>\n",
       "    </tr>\n",
       "  </tbody>\n",
       "</table>\n",
       "</div>"
      ],
      "text/plain": [
       "         Date                        State  TotalSamples Negative  Positive\n",
       "0  2020-04-17  Andaman and Nicobar Islands        1403.0     1210      12.0\n",
       "1  2020-04-24  Andaman and Nicobar Islands        2679.0      NaN      27.0\n",
       "2  2020-04-27  Andaman and Nicobar Islands        2848.0      NaN      33.0\n",
       "3  2020-05-01  Andaman and Nicobar Islands        3754.0      NaN      33.0\n",
       "4  2020-05-16  Andaman and Nicobar Islands        6677.0      NaN      33.0"
      ]
     },
     "execution_count": 4,
     "metadata": {},
     "output_type": "execute_result"
    }
   ],
   "source": [
    "tests.head()"
   ]
  },
  {
   "cell_type": "markdown",
   "metadata": {},
   "source": [
    "#### Logic to find Total Cases Found, Recovered Cases, Active Cases, Death Cases"
   ]
  },
  {
   "cell_type": "code",
   "execution_count": 5,
   "metadata": {},
   "outputs": [
    {
     "name": "stdout",
     "output_type": "stream",
     "text": [
      "3769523\n",
      "2901908\n",
      "867615\n",
      "66333\n"
     ]
    }
   ],
   "source": [
    "# Logic to find Total Cases Found, Recovered Cases, Active Cases, Death Cases\n",
    "df1 = data_india.groupby([\"Date\"]).sum()\n",
    "print(df1['Confirmed'].max())\n",
    "print(df1['Cured'].max())\n",
    "print(df1['Confirmed'].max()-df1['Cured'].max())\n",
    "print(df1['Deaths'].max())"
   ]
  },
  {
   "cell_type": "markdown",
   "metadata": {},
   "source": [
    "#### Funtion to merge two lists"
   ]
  },
  {
   "cell_type": "code",
   "execution_count": 6,
   "metadata": {},
   "outputs": [],
   "source": [
    "def merge(list1, list2): \n",
    "      \n",
    "    merged_list = [[list1[i], list2[i]] for i in range(0, len(list1))] \n",
    "    return merged_list"
   ]
  },
  {
   "cell_type": "markdown",
   "metadata": {},
   "source": [
    "#### Find total positive cases statewise for bar plot"
   ]
  },
  {
   "cell_type": "code",
   "execution_count": 7,
   "metadata": {},
   "outputs": [
    {
     "name": "stdout",
     "output_type": "stream",
     "text": [
      "[['maharashtra', 808306], ['andhra pradesh', 445139], ['tamil nadu', 433969], ['karnataka', 351481], ['uttar pradesh', 235757], ['delhi', 177060], ['west bengal', 165721], ['bihar', 138349], ['telengana', 130589], ['assam', 111724], ['odisha', 106561], ['gujarat', 97629], ['rajasthan', 83163], ['kerala', 76525], ['haryana', 66426], ['madhya pradesh', 65490], ['telengana***', 57142], ['punjab', 55508], ['telangana', 54059], ['telangana***', 52466], ['jharkhand', 43833], ['jammu and kashmir', 38223], ['chhattisgarh', 33387], ['uttarakhand', 20398], ['goa', 18006], ['puducherry', 14766], ['tripura', 12702], ['cases being reassigned to states', 9265], ['manipur', 6382], ['himachal pradesh', 6255], ['chandigarh', 4550], ['arunachal pradesh', 4212], ['nagaland', 4003], ['andaman and nicobar islands', 3160], ['ladakh', 2733], ['meghalaya', 2440], ['dadra and nagar haveli and daman and diu', 2386], ['sikkim', 1670], ['mizoram', 1020], ['unassigned', 77], ['dadar nagar haveli', 26], ['daman & diu', 2]]\n"
     ]
    }
   ],
   "source": [
    "# find +ve cases statewise for bar plot\n",
    "df1 = data_india.groupby([\"State/UnionTerritory\"]).max()\n",
    "plot = df1['Confirmed'].sort_values(ascending=False)\n",
    "plot.columns=['State/UnionTerritory','Values']\n",
    "statesplot = plot.index.tolist()\n",
    "values = plot.values.tolist()\n",
    "statesplot = [element.lower() for element in statesplot]\n",
    "datamap = merge(statesplot,values)\n",
    "print(datamap)"
   ]
  },
  {
   "cell_type": "markdown",
   "metadata": {},
   "source": [
    "#### Find the date of latest update and total samples tested"
   ]
  },
  {
   "cell_type": "code",
   "execution_count": 8,
   "metadata": {},
   "outputs": [
    {
     "name": "stdout",
     "output_type": "stream",
     "text": [
      "31/08/20\n",
      "46302729.0\n"
     ]
    }
   ],
   "source": [
    "date = data_india[\"Date\"].max()\n",
    "df2 = tests.groupby([\"Date\"]).sum().max()\n",
    "tested = df2['TotalSamples']\n",
    "print(date)\n",
    "print(tested)"
   ]
  },
  {
   "cell_type": "markdown",
   "metadata": {},
   "source": [
    "#### Get data of total Positive found on ecah date"
   ]
  },
  {
   "cell_type": "code",
   "execution_count": 9,
   "metadata": {},
   "outputs": [
    {
     "name": "stdout",
     "output_type": "stream",
     "text": [
      "[1, 1, 2, 3, 3, 3, 3, 3, 3, 3, 3, 3, 3, 3, 3, 3, 3, 3, 3, 3, 3, 3, 3, 3, 3, 3, 3, 3, 3, 3, 3, 3, 5, 6, 28, 30, 31, 34, 39, 46, 58, 60, 74, 81, 84, 110, 114, 137, 151, 173, 223, 283, 360, 433, 519, 606, 694, 724, 909, 1024, 1251, 1397, 1834, 2069, 2547, 3072, 3577, 4281, 4789, 5274, 5865, 6761, 7529, 8447, 9352, 10815, 11933, 12759, 13835, 14792, 16116, 17656, 18985, 20471, 21700, 23452, 24893, 26605, 28160, 29834, 31709, 33330, 34972, 37157, 40124, 42836, 46711, 49391, 52952, 56342, 59662, 62939, 67152, 70756, 74281, 78003, 81970, 85710, 90637, 95759, 100325, 106750, 112359, 118447, 125101, 131868, 138845, 145380, 151767, 158333, 165799, 173763, 182143, 190535, 198706, 207615, 216919, 226770, 236657, 246628, 256611, 266598, 276583, 286579, 297535, 308993, 320922, 332424, 343091, 354065, 366946, 380532, 395048, 410461, 425282, 440215, 456183, 473105, 490401, 508953, 528859, 548318, 566840, 585493, 604641, 625544, 648315, 673165, 697413, 719665, 742417, 767296, 793802, 820916, 849553, 878254, 906752, 936181, 968876, 1003832, 1038716, 1077618, 1118043, 1155191, 1192915, 1238635, 1287945, 1336861, 1385522, 1435453, 1483156, 1531669, 1583792, 1638870, 1695988, 1750723, 1803695, 1855745, 1908254, 1964536, 2027074, 2088611, 2153010, 2215074, 2268675, 2329638, 2396637, 2461190, 2526192, 2589682, 2647663, 2702742, 2767273, 2836925, 2905823, 2975701, 3044940, 3106348, 3167323, 3234474, 3310234, 3387500, 3463972, 3542733, 3621245, 3691166, 3769523]\n",
      "['30/01/20', '31/01/20', '01/02/20', '02/02/20', '03/02/20', '04/02/20', '05/02/20', '06/02/20', '07/02/20', '08/02/20', '09/02/20', '10/02/20', '11/02/20', '12/02/20', '13/02/20', '14/02/20', '15/02/20', '16/02/20', '17/02/20', '18/02/20', '19/02/20', '20/02/20', '21/02/20', '22/02/20', '23/02/20', '24/02/20', '25/02/20', '26/02/20', '27/02/20', '28/02/20', '29/02/20', '01/03/20', '02/03/20', '03/03/20', '04/03/20', '05/03/20', '06/03/20', '07/03/20', '08/03/20', '09/03/20', '10/03/20', '11/03/20', '12/03/20', '13/03/20', '14/03/20', '15/03/20', '16/03/20', '17/03/20', '18/03/20', '19/03/20', '20/03/20', '21/03/20', '22/03/20', '23/03/20', '24/03/20', '25/03/20', '26/03/20', '27/03/20', '28/03/20', '29/03/20', '30/03/20', '31/03/20', '01/04/20', '02/04/20', '03/04/20', '04/04/20', '05/04/20', '06/04/20', '07/04/20', '08/04/20', '09/04/20', '10/04/20', '11/04/20', '12/04/20', '13/04/20', '14/04/20', '15/04/20', '16/04/20', '17/04/20', '18/04/20', '19/04/20', '20/04/20', '21/04/20', '22/04/20', '23/04/20', '24/04/20', '25/04/20', '26/04/20', '27/04/20', '28/04/20', '29/04/20', '30/04/20', '01/05/20', '02/05/20', '03/05/20', '04/05/20', '05/05/20', '06/05/20', '07/05/20', '08/05/20', '09/05/20', '10/05/20', '11/05/20', '12/05/20', '13/05/20', '14/05/20', '15/05/20', '16/05/20', '17/05/20', '18/05/20', '19/05/20', '20/05/20', '21/05/20', '22/05/20', '23/05/20', '24/05/20', '25/05/20', '26/05/20', '27/05/20', '28/05/20', '29/05/20', '30/05/20', '31/05/20', '01/06/20', '02/06/20', '03/06/20', '04/06/20', '05/06/20', '06/06/20', '07/06/20', '08/06/20', '09/06/20', '10/06/20', '11/06/20', '12/06/20', '13/06/20', '14/06/20', '15/06/20', '16/06/20', '17/06/20', '18/06/20', '19/06/20', '20/06/20', '21/06/20', '22/06/20', '23/06/20', '24/06/20', '25/06/20', '26/06/20', '27/06/20', '28/06/20', '29/06/20', '30/06/20', '01/07/20', '02/07/20', '03/07/20', '04/07/20', '05/07/20', '06/07/20', '07/07/20', '08/07/20', '09/07/20', '10/07/20', '11/07/20', '12/07/20', '13/07/20', '14/07/20', '15/07/20', '16/07/20', '17/07/20', '18/07/20', '19/07/20', '20/07/20', '21/07/20', '22/07/20', '23/07/20', '24/07/20', '25/07/20', '26/07/20', '27/07/20', '28/07/20', '29/07/20', '30/07/20', '31/07/20', '01/08/20', '02/08/20', '03/08/20', '04/08/20', '05/08/20', '06/08/20', '07/08/20', '08/08/20', '09/08/20', '10/08/20', '11/08/20', '12/08/20', '13/08/20', '14/08/20', '15/08/20', '16/08/20', '17/08/20', '18/08/20', '19/08/20', '20/08/20', '21/08/20', '22/08/20', '23/08/20', '24/08/20', '25/08/20', '26/08/20', '27/08/20', '28/08/20', '29/08/20', '30/08/20', '31/08/20', '01/09/20', '02/09/20']\n"
     ]
    }
   ],
   "source": [
    "# get data of total patients on each date\n",
    "dataDatewise = data_india.groupby([\"Date\"]).sum()\n",
    "dataDatewise = dataDatewise['Confirmed']\n",
    "dataDatewise = dataDatewise.sort_values(ascending=True)\n",
    "dataDatewise = dataDatewise.tolist()\n",
    "\n",
    "data_india['State/UnionTerritory'] = [element.lower() for element in data_india['State/UnionTerritory']]\n",
    "statename = 'kerala'\n",
    "data = data_india[data_india['State/UnionTerritory'] == statename]\n",
    "date = data['Date']\n",
    "date = date.tolist()\n",
    "print(dataDatewise)\n",
    "print(date)"
   ]
  },
  {
   "cell_type": "markdown",
   "metadata": {},
   "source": [
    "#### Get data for maps of state taking madhya pradesh as example"
   ]
  },
  {
   "cell_type": "code",
   "execution_count": 10,
   "metadata": {},
   "outputs": [
    {
     "name": "stdout",
     "output_type": "stream",
     "text": [
      "256         4\n",
      "279         4\n",
      "302         6\n",
      "325         7\n",
      "349        14\n",
      "        ...  \n",
      "5704    59433\n",
      "5739    60875\n",
      "5774    62433\n",
      "5809    63965\n",
      "5844    65490\n",
      "Name: Confirmed, Length: 166, dtype: int64\n",
      "['21/03/20', '22/03/20', '23/03/20', '24/03/20', '25/03/20', '26/03/20', '27/03/20', '28/03/20', '29/03/20', '30/03/20', '31/03/20', '01/04/20', '02/04/20', '03/04/20', '04/04/20', '05/04/20', '06/04/20', '07/04/20', '08/04/20', '09/04/20', '10/04/20', '11/04/20', '12/04/20', '13/04/20', '14/04/20', '15/04/20', '16/04/20', '17/04/20', '18/04/20', '19/04/20', '20/04/20', '21/04/20', '22/04/20', '23/04/20', '24/04/20', '25/04/20', '26/04/20', '27/04/20', '28/04/20', '29/04/20', '30/04/20', '01/05/20', '02/05/20', '03/05/20', '04/05/20', '05/05/20', '06/05/20', '07/05/20', '08/05/20', '09/05/20', '10/05/20', '11/05/20', '12/05/20', '13/05/20', '14/05/20', '15/05/20', '16/05/20', '17/05/20', '18/05/20', '19/05/20', '20/05/20', '21/05/20', '22/05/20', '23/05/20', '24/05/20', '25/05/20', '26/05/20', '27/05/20', '28/05/20', '29/05/20', '30/05/20', '31/05/20', '01/06/20', '02/06/20', '03/06/20', '04/06/20', '05/06/20', '06/06/20', '07/06/20', '08/06/20', '09/06/20', '10/06/20', '11/06/20', '12/06/20', '13/06/20', '14/06/20', '15/06/20', '16/06/20', '17/06/20', '18/06/20', '19/06/20', '20/06/20', '21/06/20', '22/06/20', '23/06/20', '24/06/20', '25/06/20', '26/06/20', '27/06/20', '28/06/20', '29/06/20', '30/06/20', '01/07/20', '02/07/20', '03/07/20', '04/07/20', '05/07/20', '06/07/20', '07/07/20', '08/07/20', '09/07/20', '10/07/20', '11/07/20', '12/07/20', '13/07/20', '14/07/20', '15/07/20', '16/07/20', '17/07/20', '18/07/20', '19/07/20', '20/07/20', '21/07/20', '22/07/20', '23/07/20', '24/07/20', '25/07/20', '26/07/20', '27/07/20', '28/07/20', '29/07/20', '30/07/20', '31/07/20', '01/08/20', '02/08/20', '03/08/20', '04/08/20', '05/08/20', '06/08/20', '07/08/20', '08/08/20', '09/08/20', '10/08/20', '11/08/20', '12/08/20', '13/08/20', '14/08/20', '15/08/20', '16/08/20', '17/08/20', '18/08/20', '19/08/20', '20/08/20', '21/08/20', '22/08/20', '23/08/20', '24/08/20', '25/08/20', '26/08/20', '27/08/20', '28/08/20', '29/08/20', '30/08/20', '31/08/20', '01/09/20', '02/09/20']\n"
     ]
    }
   ],
   "source": [
    "# get data for maps of state taking madhya pradesh as example\n",
    "data_india['State/UnionTerritory'] = [element.lower() for element in data_india['State/UnionTerritory']]\n",
    "statename = 'madhya pradesh'\n",
    "dataState = data_india[data_india['State/UnionTerritory'] == statename]\n",
    "dateState = dataState['Date']\n",
    "dateState = dateState.tolist()\n",
    "confirmedState = dataState['Confirmed']\n",
    "# similarly data for recovered, active, deaths\n",
    "recoveredState = dataState['Cured']\n",
    "deathState = dataState['Deaths']\n",
    "activeState = dataState['Confirmed'] - dataState['Cured']\n",
    "print(confirmedState)\n",
    "print(dateState)"
   ]
  },
  {
   "cell_type": "markdown",
   "metadata": {},
   "source": [
    "#### Logic to find Total Cases Found, Recovered Cases, Active Cases, Death Cases for State (here madhya pradesh is taken for example)"
   ]
  },
  {
   "cell_type": "code",
   "execution_count": 11,
   "metadata": {},
   "outputs": [
    {
     "name": "stdout",
     "output_type": "stream",
     "text": [
      "65490\n",
      "15498\n",
      "49992\n",
      "1426\n"
     ]
    }
   ],
   "source": [
    "# total cases right now\n",
    "totalState = confirmedState.tail(1)\n",
    "totalState = totalState.values[0]\n",
    "\n",
    "# total active right now\n",
    "totalActiveState = activeState.tail(1)\n",
    "totalActiveState = totalActiveState.values[0]\n",
    "\n",
    "# total cured right now\n",
    "totalCuredState = recoveredState.tail(1)\n",
    "totalCuredState = totalCuredState.values[0]\n",
    "    \n",
    "# total death right now\n",
    "totaldeathState = deathState.tail(1)\n",
    "totaldeathState = totaldeathState.values[0]\n",
    "\n",
    "print(totalState)\n",
    "print(totalActiveState)\n",
    "print(totalCuredState)\n",
    "print(totaldeathState)"
   ]
  }
 ],
 "metadata": {
  "kernelspec": {
   "display_name": "Python 3",
   "language": "python",
   "name": "python3"
  },
  "language_info": {
   "codemirror_mode": {
    "name": "ipython",
    "version": 3
   },
   "file_extension": ".py",
   "mimetype": "text/x-python",
   "name": "python",
   "nbconvert_exporter": "python",
   "pygments_lexer": "ipython3",
   "version": "3.7.6"
  }
 },
 "nbformat": 4,
 "nbformat_minor": 4
}
